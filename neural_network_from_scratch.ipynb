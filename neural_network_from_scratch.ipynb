{
 "cells": [
  {
   "cell_type": "markdown",
   "metadata": {},
   "source": [
    "### Building a Neural Network From Scratch.\n",
    "Here, I am building a Neural Network from scratch using only numpy. It's an interesting challenge, so why not? :-)"
   ]
  },
  {
   "cell_type": "code",
   "execution_count": 35,
   "metadata": {},
   "outputs": [],
   "source": [
    "import numpy as np\n",
    "import pandas as pd\n",
    "import matplotlib.pyplot as plt\n",
    "from keras.datasets import mnist"
   ]
  },
  {
   "cell_type": "markdown",
   "metadata": {},
   "source": [
    "Lets begin with an introductory dataset- the MNIST handwritten digit dataset. It's the hello world for CV!\n",
    "\n",
    "Preprocessing and train-test splitting is already done."
   ]
  },
  {
   "cell_type": "code",
   "execution_count": 36,
   "metadata": {},
   "outputs": [],
   "source": [
    "(x_train, y_train), (x_test, y_test) = mnist.load_data()"
   ]
  },
  {
   "cell_type": "code",
   "execution_count": 37,
   "metadata": {},
   "outputs": [],
   "source": [
    "#training will be 60k instances of 28x28 images\n",
    "assert x_train.shape == (60000, 28, 28)\n",
    "assert y_train.shape == (60000,)"
   ]
  },
  {
   "cell_type": "code",
   "execution_count": 38,
   "metadata": {},
   "outputs": [],
   "source": [
    "#testing will be 10k instances of 28x28 images\n",
    "assert x_test.shape == (10000, 28, 28)\n",
    "assert y_test.shape == (10000,)"
   ]
  },
  {
   "cell_type": "code",
   "execution_count": 39,
   "metadata": {},
   "outputs": [],
   "source": [
    "def onehot_encode(y):\n",
    "    output = np.zeros(10)\n",
    "    output[y-1] = 1\n",
    "    return output"
   ]
  },
  {
   "cell_type": "code",
   "execution_count": 40,
   "metadata": {},
   "outputs": [],
   "source": [
    "y_train = np.array([onehot_encode(y) for y in y_train])\n",
    "y_test = np.array([onehot_encode(y) for y in y_test])"
   ]
  },
  {
   "cell_type": "code",
   "execution_count": 41,
   "metadata": {},
   "outputs": [],
   "source": [
    "def init_params():\n",
    "    w1 = np.random.randn(784, 10)\n",
    "    b1 = np.random.randn(10)\n",
    "\n",
    "    w2 = np.random.randn(10, 10)\n",
    "    b2 = np.random.randn(10)\n",
    "\n",
    "    return w1, b1, w2, b2"
   ]
  },
  {
   "cell_type": "code",
   "execution_count": 42,
   "metadata": {},
   "outputs": [],
   "source": [
    "def sftmax(x):\n",
    "    return np.exp(x) / np.sum(np.exp(x))\n",
    "    \n",
    "def deriv_sftmax(x):\n",
    "    return x * (1 - x)\n",
    "\n",
    "def deriv_tanh(x):\n",
    "    return 1 - x**2"
   ]
  },
  {
   "cell_type": "code",
   "execution_count": 50,
   "metadata": {},
   "outputs": [],
   "source": [
    "def forwardprop(x, w1, b1, w2, b2):\n",
    "    input = x.ravel()\n",
    "\n",
    "    z1 = np.dot(input, w1) + b1\n",
    "    a1 = np.tanh(z1)\n",
    "\n",
    "    z2 = np.dot(a1, w2) + b2\n",
    "    output = sftmax(z2)\n",
    "\n",
    "    return z1, a1, z2, output"
   ]
  },
  {
   "cell_type": "code",
   "execution_count": null,
   "metadata": {},
   "outputs": [],
   "source": [
    "output_array = []\n",
    "w1, b1, w2, b2 = init_params()\n",
    "\n",
    "for x in x_train:\n",
    "    output_array.append(forwardprop(x, w1, b1, w2, b2))\n",
    "\n",
    "error = []\n",
    "\n",
    "for i in range(len(output_array)):\n",
    "    error.append(y_train[i] - output_array[i][3])"
   ]
  },
  {
   "cell_type": "code",
   "execution_count": 49,
   "metadata": {},
   "outputs": [],
   "source": [
    "def backprop(x, a1, output, error, w1, b1, w2, b2):\n",
    "    error_gradient = error * deriv_sftmax(output)\n",
    "\n",
    "    alpha = 0.001\n",
    "\n",
    "    w2 += alpha * a1 * error_gradient\n",
    "\n",
    "    b2 += alpha * error_gradient\n",
    "\n",
    "    hidden_error_gradient = deriv_sftmax(a1) * np.sum(error_gradient * w2)\n",
    "\n",
    "    w1 += alpha * x * hidden_error_gradient\n",
    "\n",
    "    b1 += alpha * hidden_error_gradient"
   ]
  }
 ],
 "metadata": {
  "kernelspec": {
   "display_name": "ds",
   "language": "python",
   "name": "python3"
  },
  "language_info": {
   "codemirror_mode": {
    "name": "ipython",
    "version": 3
   },
   "file_extension": ".py",
   "mimetype": "text/x-python",
   "name": "python",
   "nbconvert_exporter": "python",
   "pygments_lexer": "ipython3",
   "version": "3.11.4"
  }
 },
 "nbformat": 4,
 "nbformat_minor": 2
}
